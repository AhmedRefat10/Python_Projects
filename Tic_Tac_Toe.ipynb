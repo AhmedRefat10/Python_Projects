{
  "nbformat": 4,
  "nbformat_minor": 0,
  "metadata": {
    "colab": {
      "provenance": [],
      "authorship_tag": "ABX9TyPvDX5FBpJ3jlW9H7dNNGew",
      "include_colab_link": true
    },
    "kernelspec": {
      "name": "python3",
      "display_name": "Python 3"
    },
    "language_info": {
      "name": "python"
    }
  },
  "cells": [
    {
      "cell_type": "markdown",
      "metadata": {
        "id": "view-in-github",
        "colab_type": "text"
      },
      "source": [
        "<a href=\"https://colab.research.google.com/github/AhmedRefat10/Python_Projects/blob/main/Tic_Tac_Toe.ipynb\" target=\"_parent\"><img src=\"https://colab.research.google.com/assets/colab-badge.svg\" alt=\"Open In Colab\"/></a>"
      ]
    },
    {
      "cell_type": "markdown",
      "source": [
        "# Tic Tac Toe\n"
      ],
      "metadata": {
        "id": "EggEzb1EfCIt"
      }
    },
    {
      "cell_type": "code",
      "source": [
        "board = [[' ', ' ', ' '],\n",
        "         [' ', ' ', ' '],\n",
        "         [' ', ' ', ' ']]"
      ],
      "metadata": {
        "id": "vI5fmHgo9QNa"
      },
      "execution_count": 316,
      "outputs": []
    },
    {
      "cell_type": "code",
      "source": [
        "# create game board func\n",
        "def game_board(board):\n",
        "  for row in board:\n",
        "    for square in row:\n",
        "      print(f\"  {square}  |\", end='')\n",
        "    print('\\n')"
      ],
      "metadata": {
        "id": "SFLjBH28fqR-"
      },
      "execution_count": 313,
      "outputs": []
    },
    {
      "cell_type": "code",
      "source": [
        "# test it\n",
        "game_board(board)"
      ],
      "metadata": {
        "colab": {
          "base_uri": "https://localhost:8080/"
        },
        "id": "4PVubCMygiHl",
        "outputId": "ff1903f8-f4d7-4b90-a1f9-aae151799a6f"
      },
      "execution_count": 314,
      "outputs": [
        {
          "output_type": "stream",
          "name": "stdout",
          "text": [
            "     |     |     |\n",
            "\n",
            "     |     |     |\n",
            "\n",
            "     |     |     |\n",
            "\n"
          ]
        }
      ]
    },
    {
      "cell_type": "code",
      "source": [
        "# create handle player move func\n",
        "def handle_player_move(board, symbol):\n",
        "  while True:\n",
        "    try:\n",
        "      row = int(input('enter the row (1, 2, 3): ')) - 1\n",
        "      col = int(input('enter the col (1, 2, 3): ')) - 1\n",
        "    except ValueError:\n",
        "      print(\"plz enter a vaild numbers\")\n",
        "      continue\n",
        "    if (0 <= row < 3) and (0 <= col) < 3 and  (board[row][col] == ' '):\n",
        "      board[row][col] = symbol\n",
        "      break\n",
        "    else:\n",
        "      print('invaild move. plz try again')"
      ],
      "metadata": {
        "id": "zxUBxnrlgje8"
      },
      "execution_count": 308,
      "outputs": []
    },
    {
      "cell_type": "code",
      "source": [
        "# test it\n",
        "handle_player_move(board, 'X')"
      ],
      "metadata": {
        "colab": {
          "base_uri": "https://localhost:8080/"
        },
        "id": "tt1HLU66lq7H",
        "outputId": "3f38f393-d3ba-4111-a089-1e5453e63927"
      },
      "execution_count": 303,
      "outputs": [
        {
          "name": "stdout",
          "output_type": "stream",
          "text": [
            "enter the row (1, 2, 3): 3\n",
            "enter the col (1, 2, 3): 2\n"
          ]
        }
      ]
    },
    {
      "cell_type": "code",
      "source": [
        "# test game board func after updating the board\n",
        "game_board(board)"
      ],
      "metadata": {
        "colab": {
          "base_uri": "https://localhost:8080/"
        },
        "id": "fC_v9gJIg_x1",
        "outputId": "4acb93f2-eef5-46aa-ae21-b396877b4984"
      },
      "execution_count": 304,
      "outputs": [
        {
          "output_type": "stream",
          "name": "stdout",
          "text": [
            "     |     |     |\n",
            "\n",
            "     |     |     |\n",
            "\n",
            "     |  X  |     |\n",
            "\n"
          ]
        }
      ]
    },
    {
      "cell_type": "code",
      "source": [
        "# create check for win func\n",
        "def check_win(board, symbol):\n",
        "  # 1- check for rows\n",
        "  for row in board:\n",
        "    counts = 0\n",
        "    for square in row:\n",
        "      if square == symbol: counts += 1\n",
        "\n",
        "    if counts == 3: return True\n",
        "\n",
        "  # 2- check for cols\n",
        "  num_rows = len(board)\n",
        "  num_cols = len(board[0])\n",
        "  for col in range(num_cols):\n",
        "    counts = 0\n",
        "    for row in range(num_rows):\n",
        "      square = board[row][col]\n",
        "      if square == symbol: counts += 1\n",
        "\n",
        "    if counts == 3: return True\n",
        "\n",
        "  # 3- check for diagonals\n",
        "  counts = 0\n",
        "  for i in range(3):\n",
        "    square = board[i][i]\n",
        "    if square == symbol: counts += 1\n",
        "\n",
        "  if counts == 3: return True\n",
        "\n",
        "  counts = 0\n",
        "  for i in range(3):\n",
        "    square = board[i][2 - i]\n",
        "    if square == symbol: counts += 1\n",
        "\n",
        "  if counts == 3: return True\n",
        "\n",
        "  return False"
      ],
      "metadata": {
        "id": "VbJRk2EOlwpE"
      },
      "execution_count": 309,
      "outputs": []
    },
    {
      "cell_type": "code",
      "source": [
        "# check for a tie func\n",
        "def check_tie(board):\n",
        "  for row in board:\n",
        "    for square in row:\n",
        "      if square == ' ':\n",
        "        return False\n",
        "  return True"
      ],
      "metadata": {
        "id": "EoOvxQsypSPv"
      },
      "execution_count": 288,
      "outputs": []
    },
    {
      "cell_type": "code",
      "source": [
        "# test it\n",
        "if check_tie(board) == True:\n",
        "  print('The game is tied')"
      ],
      "metadata": {
        "id": "ngE3_zxjwfJc"
      },
      "execution_count": 241,
      "outputs": []
    },
    {
      "cell_type": "code",
      "source": [
        "def main_loop():\n",
        "  symbols = ['X', 'O']\n",
        "  cur_symbol_index = 0\n",
        "  game_over = False\n",
        "\n",
        "  while not game_over:\n",
        "    cur_symbol = symbols[cur_symbol_index]\n",
        "    game_board(board)\n",
        "    print(f\"{cur_symbol}'s turn\")\n",
        "    handle_player_move(board, cur_symbol)\n",
        "\n",
        "    if check_win(board, cur_symbol):\n",
        "      game_board(board)\n",
        "      print(f\"{cur_symbol} wins 🏆\")\n",
        "      game_over = True\n",
        "\n",
        "    elif check_tie(board):\n",
        "      game_board(board)\n",
        "      print('The game is tied')\n",
        "      game_over = True\n",
        "\n",
        "    if not game_over:\n",
        "      cur_symbol_index = 1 - cur_symbol_index"
      ],
      "metadata": {
        "id": "X0egeWbJ41PN"
      },
      "execution_count": 310,
      "outputs": []
    },
    {
      "cell_type": "code",
      "source": [
        "main_loop()"
      ],
      "metadata": {
        "colab": {
          "base_uri": "https://localhost:8080/"
        },
        "id": "r3LRsQVd65hi",
        "outputId": "660647f9-34d8-4dc9-87e4-ae52c62e4069"
      },
      "execution_count": 311,
      "outputs": [
        {
          "output_type": "stream",
          "name": "stdout",
          "text": [
            "     |     |     |\n",
            "\n",
            "     |     |     |\n",
            "\n",
            "     |     |     |\n",
            "\n",
            "X's turn\n",
            "enter the row (1, 2, 3): 3\n",
            "enter the col (1, 2, 3): 2\n",
            "     |     |     |\n",
            "\n",
            "     |     |     |\n",
            "\n",
            "     |  X  |     |\n",
            "\n",
            "O's turn\n",
            "enter the row (1, 2, 3): 1\n",
            "enter the col (1, 2, 3): 1\n",
            "  O  |     |     |\n",
            "\n",
            "     |     |     |\n",
            "\n",
            "     |  X  |     |\n",
            "\n",
            "X's turn\n",
            "enter the row (1, 2, 3): 1\n",
            "enter the col (1, 2, 3): 1\n",
            "invaild move. plz try again\n",
            "enter the row (1, 2, 3): 1\n",
            "enter the col (1, 2, 3): 2\n",
            "  O  |  X  |     |\n",
            "\n",
            "     |     |     |\n",
            "\n",
            "     |  X  |     |\n",
            "\n",
            "O's turn\n",
            "enter the row (1, 2, 3): 3\n",
            "enter the col (1, 2, 3): 3\n",
            "  O  |  X  |     |\n",
            "\n",
            "     |     |     |\n",
            "\n",
            "     |  X  |  O  |\n",
            "\n",
            "X's turn\n",
            "enter the row (1, 2, 3): 1\n",
            "enter the col (1, 2, 3): 3\n",
            "  O  |  X  |  X  |\n",
            "\n",
            "     |     |     |\n",
            "\n",
            "     |  X  |  O  |\n",
            "\n",
            "O's turn\n",
            "enter the row (1, 2, 3): 2\n",
            "enter the col (1, 2, 3): 2\n",
            "  O  |  X  |  X  |\n",
            "\n",
            "     |  O  |     |\n",
            "\n",
            "     |  X  |  O  |\n",
            "\n",
            "O wins 🏆\n"
          ]
        }
      ]
    },
    {
      "cell_type": "code",
      "source": [
        "main_loop()"
      ],
      "metadata": {
        "colab": {
          "base_uri": "https://localhost:8080/"
        },
        "id": "-l6dz6dDBnJq",
        "outputId": "6d94a9bc-4742-4b08-9118-893365adbb0e"
      },
      "execution_count": 317,
      "outputs": [
        {
          "output_type": "stream",
          "name": "stdout",
          "text": [
            "     |     |     |\n",
            "\n",
            "     |     |     |\n",
            "\n",
            "     |     |     |\n",
            "\n",
            "X's turn\n",
            "enter the row (1, 2, 3): 3\n",
            "enter the col (1, 2, 3): 3\n",
            "     |     |     |\n",
            "\n",
            "     |     |     |\n",
            "\n",
            "     |     |  X  |\n",
            "\n",
            "O's turn\n",
            "enter the row (1, 2, 3): 1\n",
            "enter the col (1, 2, 3): 1\n",
            "  O  |     |     |\n",
            "\n",
            "     |     |     |\n",
            "\n",
            "     |     |  X  |\n",
            "\n",
            "X's turn\n",
            "enter the row (1, 2, 3): 1\n",
            "enter the col (1, 2, 3): 3\n",
            "  O  |     |  X  |\n",
            "\n",
            "     |     |     |\n",
            "\n",
            "     |     |  X  |\n",
            "\n",
            "O's turn\n",
            "enter the row (1, 2, 3): 2\n",
            "enter the col (1, 2, 3): 3\n",
            "  O  |     |  X  |\n",
            "\n",
            "     |     |  O  |\n",
            "\n",
            "     |     |  X  |\n",
            "\n",
            "X's turn\n",
            "enter the row (1, 2, 3): 2\n",
            "enter the col (1, 2, 3): 1\n",
            "  O  |     |  X  |\n",
            "\n",
            "  X  |     |  O  |\n",
            "\n",
            "     |     |  X  |\n",
            "\n",
            "O's turn\n",
            "enter the row (1, 2, 3): 2\n",
            "enter the col (1, 2, 3): 2\n",
            "  O  |     |  X  |\n",
            "\n",
            "  X  |  O  |  O  |\n",
            "\n",
            "     |     |  X  |\n",
            "\n",
            "X's turn\n",
            "enter the row (1, 2, 3): 3\n",
            "enter the col (1, 2, 3): 1\n",
            "  O  |     |  X  |\n",
            "\n",
            "  X  |  O  |  O  |\n",
            "\n",
            "  X  |     |  X  |\n",
            "\n",
            "O's turn\n",
            "enter the row (1, 2, 3): 3\n",
            "enter the col (1, 2, 3): 2\n",
            "  O  |     |  X  |\n",
            "\n",
            "  X  |  O  |  O  |\n",
            "\n",
            "  X  |  O  |  X  |\n",
            "\n",
            "X's turn\n",
            "enter the row (1, 2, 3): 1\n",
            "enter the col (1, 2, 3): 2\n",
            "  O  |  X  |  X  |\n",
            "\n",
            "  X  |  O  |  O  |\n",
            "\n",
            "  X  |  O  |  X  |\n",
            "\n",
            "The game is tied\n"
          ]
        }
      ]
    }
  ]
}